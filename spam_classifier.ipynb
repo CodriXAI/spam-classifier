{
 "cells": [
  {
   "cell_type": "markdown",
   "id": "35bd3585-a08a-4322-9e7e-5f5a5dfaf060",
   "metadata": {},
   "source": [
    "# ENTRENAMIENTO MODELO IA / ¿SPAM o NO SPAM?\n",
    "\n",
    ">En esta ocasión, estaremos entrenando un modelo de IA capaz de detectar cuando un correo es o no es SPAM, usaremos temporalmente un dataset en formato CSV pequeño para ver su comportamiento y utilizando por primera vez tecnologías como:\n",
    ">Jupyter\n",
    ">Pandas\n",
    ">Matplot\n",
    ">Sklearn\n",
    ">Pytorch\n"
   ]
  },
  {
   "cell_type": "markdown",
   "id": "d8de6578-eb03-4be6-bb3b-403b3b83e30c",
   "metadata": {},
   "source": [
    "---\n",
    "\n",
    "## Paso 1 – Cargar los datos\n",
    "\n",
    "En esta sección vamos a cargar el CSV con pandas para inspeccionar el dataset.\n",
    "\n",
    "---"
   ]
  },
  {
   "cell_type": "code",
   "execution_count": 1,
   "id": "264f24d3-0be1-44ff-9466-fbc5b7febc23",
   "metadata": {},
   "outputs": [
    {
     "data": {
      "text/html": [
       "<div>\n",
       "<style scoped>\n",
       "    .dataframe tbody tr th:only-of-type {\n",
       "        vertical-align: middle;\n",
       "    }\n",
       "\n",
       "    .dataframe tbody tr th {\n",
       "        vertical-align: top;\n",
       "    }\n",
       "\n",
       "    .dataframe thead th {\n",
       "        text-align: right;\n",
       "    }\n",
       "</style>\n",
       "<table border=\"1\" class=\"dataframe\">\n",
       "  <thead>\n",
       "    <tr style=\"text-align: right;\">\n",
       "      <th></th>\n",
       "      <th>text</th>\n",
       "      <th>label</th>\n",
       "    </tr>\n",
       "  </thead>\n",
       "  <tbody>\n",
       "    <tr>\n",
       "      <th>0</th>\n",
       "      <td>Free money now!!!</td>\n",
       "      <td>spam</td>\n",
       "    </tr>\n",
       "    <tr>\n",
       "      <th>1</th>\n",
       "      <td>Hi, how are you?</td>\n",
       "      <td>ham</td>\n",
       "    </tr>\n",
       "    <tr>\n",
       "      <th>2</th>\n",
       "      <td>Win a brand new car</td>\n",
       "      <td>spam</td>\n",
       "    </tr>\n",
       "    <tr>\n",
       "      <th>3</th>\n",
       "      <td>Are we still on for lunch?</td>\n",
       "      <td>ham</td>\n",
       "    </tr>\n",
       "    <tr>\n",
       "      <th>4</th>\n",
       "      <td>Call now to claim your prize</td>\n",
       "      <td>spam</td>\n",
       "    </tr>\n",
       "  </tbody>\n",
       "</table>\n",
       "</div>"
      ],
      "text/plain": [
       "                           text label\n",
       "0             Free money now!!!  spam\n",
       "1              Hi, how are you?   ham\n",
       "2           Win a brand new car  spam\n",
       "3    Are we still on for lunch?   ham\n",
       "4  Call now to claim your prize  spam"
      ]
     },
     "execution_count": 1,
     "metadata": {},
     "output_type": "execute_result"
    }
   ],
   "source": [
    "import pandas as pd\n",
    "\n",
    "#Cargar el CSV con el dataset\n",
    "df = pd.read_csv(\"data/spam_dataset.csv\")\n",
    "\n",
    "#Mostrar las primeras filas\n",
    "df.head()"
   ]
  },
  {
   "cell_type": "markdown",
   "id": "2691cc81-14bf-43b1-ac4c-7cb3a3030809",
   "metadata": {},
   "source": [
    "---\n",
    "\n",
    "## Paso 2 - Convertir 'spam' y 'ham' en 1's y 0's respectivamente\n",
    "Lo haremos para el entrenamiento del modelo y para ayudarnos para vectorizar nuestro dataset\n",
    "\n",
    "---"
   ]
  },
  {
   "cell_type": "code",
   "execution_count": 2,
   "id": "6487caff-bcae-4d0a-ac2a-5126d8b2ba28",
   "metadata": {},
   "outputs": [
    {
     "data": {
      "text/html": [
       "<div>\n",
       "<style scoped>\n",
       "    .dataframe tbody tr th:only-of-type {\n",
       "        vertical-align: middle;\n",
       "    }\n",
       "\n",
       "    .dataframe tbody tr th {\n",
       "        vertical-align: top;\n",
       "    }\n",
       "\n",
       "    .dataframe thead th {\n",
       "        text-align: right;\n",
       "    }\n",
       "</style>\n",
       "<table border=\"1\" class=\"dataframe\">\n",
       "  <thead>\n",
       "    <tr style=\"text-align: right;\">\n",
       "      <th></th>\n",
       "      <th>text</th>\n",
       "      <th>label</th>\n",
       "    </tr>\n",
       "  </thead>\n",
       "  <tbody>\n",
       "    <tr>\n",
       "      <th>0</th>\n",
       "      <td>Free money now!!!</td>\n",
       "      <td>1</td>\n",
       "    </tr>\n",
       "    <tr>\n",
       "      <th>1</th>\n",
       "      <td>Hi, how are you?</td>\n",
       "      <td>0</td>\n",
       "    </tr>\n",
       "    <tr>\n",
       "      <th>2</th>\n",
       "      <td>Win a brand new car</td>\n",
       "      <td>1</td>\n",
       "    </tr>\n",
       "    <tr>\n",
       "      <th>3</th>\n",
       "      <td>Are we still on for lunch?</td>\n",
       "      <td>0</td>\n",
       "    </tr>\n",
       "    <tr>\n",
       "      <th>4</th>\n",
       "      <td>Call now to claim your prize</td>\n",
       "      <td>1</td>\n",
       "    </tr>\n",
       "  </tbody>\n",
       "</table>\n",
       "</div>"
      ],
      "text/plain": [
       "                           text  label\n",
       "0             Free money now!!!      1\n",
       "1              Hi, how are you?      0\n",
       "2           Win a brand new car      1\n",
       "3    Are we still on for lunch?      0\n",
       "4  Call now to claim your prize      1"
      ]
     },
     "execution_count": 2,
     "metadata": {},
     "output_type": "execute_result"
    }
   ],
   "source": [
    "#Convertir etiquetas a números\n",
    "df['label'] = df['label'].map({'ham' : 0, 'spam' : 1})\n",
    "\n",
    "#Verificamos que se haya conseguido correctamente\n",
    "df.head()"
   ]
  },
  {
   "cell_type": "markdown",
   "id": "6165ffb3-20e7-4d7b-abf7-ac5f94b42623",
   "metadata": {},
   "source": [
    "---\n",
    "\n",
    "## Paso 3 - Separamos los nombres de las etiquetas\n",
    "Tendremos mayor orden y control sobre los datos\n",
    "\n",
    "---"
   ]
  },
  {
   "cell_type": "code",
   "execution_count": 3,
   "id": "d0f7706c-29da-4152-9ad1-935fe358ec70",
   "metadata": {},
   "outputs": [],
   "source": [
    "X = df['text'] #Los mensajes\n",
    "y = df['label'] #Etiquetas (0,1)"
   ]
  },
  {
   "cell_type": "markdown",
   "id": "8e773291-6ed4-4c33-bf6d-ca0ba1b735e2",
   "metadata": {},
   "source": [
    "---\n",
    "\n",
    "## Paso 4 - Dividiremos el dataset en training set (80%) y testing set (20%) \n",
    "Esto para probar que el modelo tenga ejemplos para referenciarse y luego probar la detección con otros ejemplos que no haya visto nunca. En caso que utilicemos datos de más y el modelo solo esté memorizando. Obtendremos un problema comúnmente conocido como **Overfitting**.\n",
    "\n",
    "Para poder dividir el dataset utilizaremos ```train_test_split```\n",
    "\n",
    "---"
   ]
  },
  {
   "cell_type": "code",
   "execution_count": 4,
   "id": "29630cb0-5d3b-451a-883d-fc5b82ec9ad8",
   "metadata": {},
   "outputs": [],
   "source": [
    "from sklearn.model_selection import train_test_split\n",
    "\n",
    "#Dividimos el dataset en las proporciones mencionadas\n",
    "X_train, X_test, y_train, y_test = train_test_split(X,y, test_size=0.2, random_state=42)"
   ]
  },
  {
   "cell_type": "markdown",
   "id": "e7528fb4-1287-4a96-a847-74de546cb9f6",
   "metadata": {},
   "source": [
    "**Nota**: El ```random_state=42``` significa: “Usá esta semilla aleatoria fija para que la división entre train y test sea siempre igual cada vez que ejecuto el código.”\n",
    "\n",
    "Esto es así puesto que si no lo colocamos, cada vez que se corra el código, los datos se **dividen distinto**, porque el proceso es aleatorio.\n",
    "Eso hace que los resultados cambien y sean difíciles de reproducir."
   ]
  },
  {
   "cell_type": "markdown",
   "id": "2644e6e3-d428-45dc-a481-e2c15042d1f0",
   "metadata": {},
   "source": [
    "---\n",
    "\n",
    "## Paso 5 - Vectorizar los mensajes\n",
    "**Pytorch** por defecto no entiende textos, solo **Tensores**, una estructura matemática que hace todo posible en la Inteligencia Artifical. Asi que utilizaremos Scikit Learn para poder vectorizar la información y prepararla para poder llevarla a Tensores\n",
    "\n",
    "---"
   ]
  },
  {
   "cell_type": "code",
   "execution_count": 5,
   "id": "b204c83e-b810-4e35-8a51-0a9b2557882a",
   "metadata": {},
   "outputs": [],
   "source": [
    "from sklearn.feature_extraction.text import CountVectorizer\n",
    "\n",
    "#Creando el vectorizador\n",
    "vectorizer = CountVectorizer()\n",
    "\n",
    "#Aprender a partir de texto y pasarlo a vectores\n",
    "X_train_vect = vectorizer.fit_transform(X_train)\n",
    "X_test_vect = vectorizer.transform(X_test)"
   ]
  },
  {
   "cell_type": "markdown",
   "id": "8ed306aa-099f-485a-ad67-00b0838776c3",
   "metadata": {},
   "source": [
    "### ¿Qué hace esto?\n",
    "\n",
    "Crea una \"bolsa de palabras\": cada palabra es una columna.\n",
    "\n",
    "Cada mensaje se transforma en un vector que cuenta cuántas veces aparece cada palabra.\n",
    "\n",
    "El resultado es una matriz dispersa (sparse matrix) como esta:\n",
    "\n",
    "```[0 1 0 0 3 0 0 2 ...]```\n",
    "\n",
    "Cada número representa la **frecuencia** de una palabra en ese mensaje."
   ]
  },
  {
   "cell_type": "markdown",
   "id": "d33ec05c-03be-49ba-a14c-338c684ded4a",
   "metadata": {},
   "source": [
    "---\n",
    "\n",
    "## Paso 6 - Conversión Tensorial y preparar el dataLoader\n",
    "Una vez vectorizado el dataset, podemos pasarlos a tensores para trabajar con pytorch sin problemas, además de agregar el **dataLoader**, cuyo funcionamiento es cargar automáticamente los datos a Pytorch, sin necesidad de ir uno por uno.\n",
    "\n",
    "- Este proceso consiste en dividir en lotes (batchs) equitativos de datos:\n",
    "\n",
    "\n",
    "  Ejemplo: Si tenemos un dataset de 800 elementos, y el lote es de 16 datos cada uno, tendremos 50 lotes, 16x50 = 800.\n",
    "\n",
    "  \n",
    "- Permite hacer **shuffle**, es decir, mezclar los datos para que no sea siempre lo mismo.\n",
    "\n",
    "- Y también nos facilita el trabajo con datasets grandes, para no saturar la memoria, podemos ir pasando por lotes.\n",
    "\n",
    "---"
   ]
  },
  {
   "cell_type": "code",
   "execution_count": 6,
   "id": "fe5ccab6-3951-439b-813c-3476493d52b9",
   "metadata": {},
   "outputs": [],
   "source": [
    "import torch\n",
    "from torch.utils.data import TensorDataset, DataLoader\n",
    "\n",
    "#Convertimos todos los vectores en Tensores y los pasamos como flotantes\n",
    "X_train_tensor = torch.tensor(X_train_vect.toarray()).float()\n",
    "X_test_tensor = torch.tensor(X_test_vect.toarray()).float()\n",
    "y_train_tensor = torch.tensor(y_train.values).float()\n",
    "y_test_tensor = torch.tensor(y_test.values).float()\n",
    "\n",
    "# Dataset y DataLoader\n",
    "BATCH_SIZE = 16\n",
    "\n",
    "train_dataset = TensorDataset(X_train_tensor, y_train_tensor)\n",
    "test_dataset = TensorDataset(X_test_tensor, y_test_tensor)\n",
    "\n",
    "train_loader = DataLoader(train_dataset, batch_size=BATCH_SIZE, shuffle=True)\n",
    "test_loader = DataLoader(test_dataset, batch_size=16)"
   ]
  },
  {
   "cell_type": "markdown",
   "id": "25bd1be5-fca7-4d8a-98ff-7a1689deb12e",
   "metadata": {},
   "source": [
    "**Nota:**\n",
    "\n",
    "```.toarray()``` convierte la matriz dispersa en una común para que PyTorch pueda leerla\n",
    "\n",
    "```float()``` es porque vamos a usar redes neuronales que trabajan con números reales\n",
    "\n",
    "```TensorDataset``` empaqueta entradas y etiquetas\n",
    "\n",
    "```DataLoader``` reparte los datos en mini-lotes (batches) y los mezcla (shuffle)"
   ]
  },
  {
   "cell_type": "markdown",
   "id": "8d81efe1-a26a-47db-a183-b090e5d7e6fa",
   "metadata": {},
   "source": [
    "---\n",
    "\n",
    "## Paso 7 - Crear el Modelo con Pytorch\n",
    "Crearemos en esta ocasión una red neuronal de Clasificación Binaria simple, ideal para nuestro caso\n",
    "\n",
    "---"
   ]
  },
  {
   "cell_type": "code",
   "execution_count": 7,
   "id": "8417a552-f158-4584-b994-61c650a891f9",
   "metadata": {},
   "outputs": [],
   "source": [
    "import torch.nn as nn\n",
    "import torch.nn.functional as F\n",
    "\n",
    "#Definimos arquitectura del modelo mediante clases\n",
    "class SpamClassifier(nn.Module):\n",
    "    def __init__(self, input_size):\n",
    "        super(SpamClassifier, self).__init__()\n",
    "        self.fc1 = nn.Linear(input_size, 16)\n",
    "        self.relu = nn.ReLU()\n",
    "        self.fc2 = nn.Linear(16, 1)\n",
    "        self.sigmoid = nn.Sigmoid()\n",
    "\n",
    "    def forward(self, x):\n",
    "        x = self.relu(self.fc1(x))\n",
    "        x = self.sigmoid(self.fc2(x))\n",
    "        return x\n",
    "\n",
    "    "
   ]
  },
  {
   "cell_type": "markdown",
   "id": "6ecd46d0-5651-45c6-a3dc-945d8403b109",
   "metadata": {},
   "source": [
    "## Arquitectura del modelo\n",
    "Definimos una clase **SpamClassifier** que hereda de nn.Module, lo que le dice a PyTorch que es un modelo entrenable.\n",
    "\n",
    "Dentro de esa clase:\n",
    "\n",
    "### __init__:\n",
    "\n",
    "Es el constructor, y ahí definimos las capas del modelo.\n",
    "\n",
    "Es como declarar: **“quiero una capa de entrada con tantas neuronas (input_dim), una oculta con 16, y una de salida con 1”.**\n",
    "\n",
    "self.fc1 y self.fc2 son esas capas **(fully connected)**.\n",
    "\n",
    "Con super, podemos llamar al constructor de la clase padre **nn.module** para que pueda manejar las capas correctamente\n",
    "\n",
    "### forward:\n",
    "\n",
    "Define cómo viajan los datos a través de la red.\n",
    "\n",
    "Pasa primero por la capa fc1, le aplica una **ReLU** - Rectified Linear Unit o Unidad Lineal Rectificada (para que aprenda no linealidades), toma el valor absoluto de la información, haciendo siempre positivo o 0 el resultado\n",
    "\n",
    "Luego pasa por la capa fc2, y se le aplica una **sigmoide** (para que la salida sea entre 0 y 1, útil para clasificación binaria).\n"
   ]
  },
  {
   "cell_type": "markdown",
   "id": "b282a033-f373-40d3-b653-4c6799fef337",
   "metadata": {},
   "source": [
    "### Instanciando el Modelo"
   ]
  },
  {
   "cell_type": "code",
   "execution_count": 8,
   "id": "a2e078ea-3493-422c-b760-e0067b7c8b34",
   "metadata": {},
   "outputs": [],
   "source": [
    "input_dim = X_train_tensor.shape[1] #Definimos el tamaño de la capa de Entrada\n",
    "model = SpamClassifier(input_dim) #Instanciamos el modelo con la arquitectura \"SpamClassifier\" y el tamaño"
   ]
  },
  {
   "cell_type": "markdown",
   "id": "8f872f86-dc5c-4d85-a283-452ed6fa6a84",
   "metadata": {},
   "source": [
    "---\n",
    "\n",
    "## Paso 8 - Definir función de perdida y optimizador\n",
    "\n",
    "En este paso nos aseguramos que el modelo realmente vaya aprendiendo a medida que pasen las epochs o ciclos de aprendizaje, una vez que haya hecho la primer epoch, tenemos que fijarnos en la funcion de perdida (error) y ver cuanto tenemos que ajustar estos hiperparámetros para que el modelo mejore a medida que vayan pasando los ciclos de fit.\n",
    "\n",
    "Para la función de perdida (**LOSS**) utilizaremos **BCELoss o Binary Cross Entropy**:\n",
    "\n",
    "Compara la predicción (probabilidad entre 0 y 1) con la etiqueta real (0 o 1) y mide qué tan mal estamos.\n",
    "\n",
    "Para el optimizador utilizaremos **Adam**, un Algoritmo de optimización ideal para nuestro caso, para el ajuste de pesos de la red neuronal\n",
    "\n",
    "---"
   ]
  },
  {
   "cell_type": "code",
   "execution_count": 9,
   "id": "21e2d11c-0333-4ba1-91fb-86460ec6c94b",
   "metadata": {},
   "outputs": [],
   "source": [
    "import torch.optim as optim\n",
    "\n",
    "#Función de pérdida o LOSS\n",
    "criterion = nn.BCELoss()\n",
    "\n",
    "#Optimizador\n",
    "optimizer = optim.Adam(model.parameters(), lr=0.001)"
   ]
  },
  {
   "cell_type": "markdown",
   "id": "aeb6ed71-1427-4b73-861d-be6b447976ef",
   "metadata": {},
   "source": [
    "### ¿Qué hicimos?\n",
    "**BCELoss:** penaliza más si predecimos mal (por ejemplo, 0.1 cuando debería ser 1).\n",
    "\n",
    "**model.parameters():** le decimos a Adam que entrene todos los pesos del modelo.\n",
    "\n",
    "**lr=0.001:** tasa de aprendizaje (qué tan rápido aprende el modelo). Se puede tunear más adelante."
   ]
  },
  {
   "cell_type": "markdown",
   "id": "a1780d46-4d71-4675-8a32-190371155026",
   "metadata": {},
   "source": [
    "---\n",
    "\n",
    "## Paso 9 - Entrenando el modelo de IA\n",
    "\n",
    "Pasaremos a entrenar y probar el modelo que hemos creado en el paso 7, indicaremos una serie de **Épocas - Epochs** a realizar con los datos \n",
    "\n",
    "Luego del entrenamiento le mostraremos datos completamente nuevos a ver que tan eficiente es nuestro modelo \n",
    "\n",
    "---"
   ]
  },
  {
   "cell_type": "code",
   "execution_count": 10,
   "id": "42c54615-8a19-47dd-a8c4-2979abefb927",
   "metadata": {},
   "outputs": [
    {
     "name": "stdout",
     "output_type": "stream",
     "text": [
      "Época 1 / 10 - Pérdida:  0.710895\n",
      "Época 2 / 10 - Pérdida:  0.707910\n",
      "Época 3 / 10 - Pérdida:  0.704950\n",
      "Época 4 / 10 - Pérdida:  0.702016\n",
      "Época 5 / 10 - Pérdida:  0.699073\n",
      "Época 6 / 10 - Pérdida:  0.696147\n",
      "Época 7 / 10 - Pérdida:  0.693241\n",
      "Época 8 / 10 - Pérdida:  0.690355\n",
      "Época 9 / 10 - Pérdida:  0.687488\n",
      "Época 10 / 10 - Pérdida:  0.684639\n"
     ]
    }
   ],
   "source": [
    "#Establecemos la cantidad de epocas\n",
    "epochs = 10\n",
    "\n",
    "#Bucles para recorrer las epochs\n",
    "for epoch in range(epochs):\n",
    "    model.train() #Ponemos al modelo en modo fit\n",
    "\n",
    "    total_loss = 0 #Reseteamos la suma total de pérdida\n",
    "\n",
    "    #Vamos haciendo el proceso por cada lote en lotes\n",
    "    for inputs, labels in train_loader:\n",
    "        optimizer.zero_grad() #Reseteamos los gradientes\n",
    "        outputs = model(inputs) #Predicción del modelo\n",
    "        labels = labels.view(-1, 1)  # Asegura que labels tenga forma (batch_size, 1)\n",
    "        loss = criterion(outputs, labels) #Comparación y cálculo de pérdida\n",
    "        loss.backward() #Backpropagation\n",
    "        optimizer.step() #Actualizar pesos\n",
    "\n",
    "        total_loss += loss.item() #Acumulando pérdida\n",
    "\n",
    "    print(f\"Época {epoch+1} / {epochs} - Pérdida: {total_loss : 4f}\")"
   ]
  },
  {
   "cell_type": "markdown",
   "id": "c0bc728e-b8bf-4b13-a70f-ac82e3a556d3",
   "metadata": {},
   "source": [
    "**NOTA:** Ver que el modelo efectivamente está aprendiendo, porque la pérdida es menor, sin embargo por el tamaño chico del dataset, sigue siendo bastante grande la pérdida total, incluso luego del training."
   ]
  },
  {
   "cell_type": "markdown",
   "id": "ff1c2380-39be-4f7b-852d-90e191cdf8b9",
   "metadata": {},
   "source": [
    "---\n",
    "## Paso 10 - Evaluación de los resultados\n",
    "\n",
    "Veremos cómo le ha ido al modelo con este entrenamiento, pasándole ahora los datos del testing set para ver cómo reacciona nuestro modelo de IA\n",
    "\n",
    "---"
   ]
  },
  {
   "cell_type": "code",
   "execution_count": 11,
   "id": "13e112f2-6472-4541-9c8b-32267cebc794",
   "metadata": {},
   "outputs": [
    {
     "name": "stdout",
     "output_type": "stream",
     "text": [
      "Precisión del modelo:  50.000000%\n"
     ]
    }
   ],
   "source": [
    "model.eval() #Cambiamos a modo evaluación, no a entrenamiento\n",
    "\n",
    "correct = 0\n",
    "total = 0\n",
    "\n",
    "with torch.no_grad(): #No son necesarios los gradientes, vamos a testear\n",
    "    #Misma secuencia que en fitting, por lotes:\n",
    "    for inputs, labels in test_loader:\n",
    "        outputs = model(inputs)\n",
    "        predicted = (outputs >= 0.5).float() #Aplicamos un umbral de 0.5\n",
    "        labels = labels.view(-1, 1)# Mismo fix que antes\n",
    "        correct += (predicted == labels).sum().item()\n",
    "        total += labels.size(0)\n",
    "\n",
    "accuracy = correct / total #Precisión basado en la regla de laplace\n",
    "\n",
    "print(f\"Precisión del modelo: {accuracy * 100 : 2f}%\")"
   ]
  },
  {
   "cell_type": "markdown",
   "id": "1bb9a2a4-5773-440a-b2cb-bfe3d1f24950",
   "metadata": {},
   "source": [
    "### ¿Qué hemos hecho?\n",
    "\n",
    "```model.eval():``` activa el modo de evaluación.\n",
    "\n",
    "```torch.no_grad():``` no se calculan gradientes => más rápido y menos memoria usada.\n",
    "\n",
    "```(outputs >= 0.5).float():``` usamos 0.5 como umbral de decisión (típico en clasificación binaria).\n",
    "\n",
    "```Comparamos predicted == labels:``` para ver cuántos aciertos tuvimos."
   ]
  },
  {
   "cell_type": "markdown",
   "id": "acd971c6-c4bd-4af7-9d5a-eb75bf07f592",
   "metadata": {},
   "source": [
    "## MODELO MEJOR ENTRENADO\n",
    "\n",
    "Aumentaremos el número de EPOCHS para ver como evoluciona nuestro modelo y ver si mejora el rendimiento\n",
    "\n",
    "Además de graficar con matplot para ver la mejoría de forma gráfica"
   ]
  },
  {
   "cell_type": "code",
   "execution_count": 12,
   "id": "d1f02917-e8b5-4374-afd2-886b0f34ba3e",
   "metadata": {},
   "outputs": [
    {
     "name": "stdout",
     "output_type": "stream",
     "text": [
      "Época 1 / 50 - Pérdida: 0.681806\n",
      "Época 2 / 50 - Pérdida: 0.678987\n",
      "Época 3 / 50 - Pérdida: 0.676180\n",
      "Época 4 / 50 - Pérdida: 0.673575\n",
      "Época 5 / 50 - Pérdida: 0.671001\n",
      "Época 6 / 50 - Pérdida: 0.668465\n",
      "Época 7 / 50 - Pérdida: 0.665987\n",
      "Época 8 / 50 - Pérdida: 0.663495\n",
      "Época 9 / 50 - Pérdida: 0.661011\n",
      "Época 10 / 50 - Pérdida: 0.658524\n",
      "Época 11 / 50 - Pérdida: 0.656134\n",
      "Época 12 / 50 - Pérdida: 0.653736\n",
      "Época 13 / 50 - Pérdida: 0.651390\n",
      "Época 14 / 50 - Pérdida: 0.649278\n",
      "Época 15 / 50 - Pérdida: 0.647178\n",
      "Época 16 / 50 - Pérdida: 0.645070\n",
      "Época 17 / 50 - Pérdida: 0.642934\n",
      "Época 18 / 50 - Pérdida: 0.640771\n",
      "Época 19 / 50 - Pérdida: 0.638610\n",
      "Época 20 / 50 - Pérdida: 0.636433\n",
      "Época 21 / 50 - Pérdida: 0.634227\n",
      "Época 22 / 50 - Pérdida: 0.631990\n",
      "Época 23 / 50 - Pérdida: 0.629723\n",
      "Época 24 / 50 - Pérdida: 0.627424\n",
      "Época 25 / 50 - Pérdida: 0.625093\n",
      "Época 26 / 50 - Pérdida: 0.622744\n",
      "Época 27 / 50 - Pérdida: 0.620335\n",
      "Época 28 / 50 - Pérdida: 0.617908\n",
      "Época 29 / 50 - Pérdida: 0.615447\n",
      "Época 30 / 50 - Pérdida: 0.612952\n",
      "Época 31 / 50 - Pérdida: 0.610423\n",
      "Época 32 / 50 - Pérdida: 0.607861\n",
      "Época 33 / 50 - Pérdida: 0.605264\n",
      "Época 34 / 50 - Pérdida: 0.602634\n",
      "Época 35 / 50 - Pérdida: 0.600023\n",
      "Época 36 / 50 - Pérdida: 0.597429\n",
      "Época 37 / 50 - Pérdida: 0.594805\n",
      "Época 38 / 50 - Pérdida: 0.592132\n",
      "Época 39 / 50 - Pérdida: 0.589438\n",
      "Época 40 / 50 - Pérdida: 0.586800\n",
      "Época 41 / 50 - Pérdida: 0.584124\n",
      "Época 42 / 50 - Pérdida: 0.581413\n",
      "Época 43 / 50 - Pérdida: 0.578680\n",
      "Época 44 / 50 - Pérdida: 0.575895\n",
      "Época 45 / 50 - Pérdida: 0.573095\n",
      "Época 46 / 50 - Pérdida: 0.570258\n",
      "Época 47 / 50 - Pérdida: 0.567395\n",
      "Época 48 / 50 - Pérdida: 0.564502\n",
      "Época 49 / 50 - Pérdida: 0.561556\n",
      "Época 50 / 50 - Pérdida: 0.558575\n"
     ]
    }
   ],
   "source": [
    "loss_values = []\n",
    "\n",
    "num_epochs = 50  # Probamos con 50 épocas\n",
    "\n",
    "for epoch in range(num_epochs):\n",
    "    model.train()\n",
    "    running_loss = 0.0\n",
    "    \n",
    "    for inputs, labels in train_loader:\n",
    "        optimizer.zero_grad()\n",
    "        outputs = model(inputs)\n",
    "        labels = labels.view(-1, 1)\n",
    "        loss = criterion(outputs, labels)\n",
    "        loss.backward()\n",
    "        optimizer.step()\n",
    "        \n",
    "        running_loss += loss.item()\n",
    "    \n",
    "    epoch_loss = running_loss / len(train_loader)\n",
    "    loss_values.append(epoch_loss)\n",
    "    print(f\"Época {epoch+1} / {num_epochs} - Pérdida: {epoch_loss:.6f}\")\n"
   ]
  },
  {
   "cell_type": "markdown",
   "id": "abf391e3-faba-4c58-8b1a-5e061adfb131",
   "metadata": {},
   "source": [
    "### Graficamos con matplot"
   ]
  },
  {
   "cell_type": "code",
   "execution_count": 13,
   "id": "4330ef6b-69b7-46b8-8674-a8a91842f039",
   "metadata": {},
   "outputs": [
    {
     "data": {
      "image/png": "[encoded data removed]",
      "text/plain": [
       "<Figure size 640x480 with 1 Axes>"
      ]
     },
     "metadata": {},
     "output_type": "display_data"
    }
   ],
   "source": [
    "import matplotlib.pyplot as plt\n",
    "\n",
    "plt.plot(loss_values)\n",
    "plt.title(\"Evolución de la pérdida durante el entrenamiento\")\n",
    "plt.xlabel(\"Época\")\n",
    "plt.ylabel(\"Pérdida (Loss)\")\n",
    "plt.grid(True)\n",
    "plt.show()\n"
   ]
  },
  {
   "cell_type": "markdown",
   "id": "9c2ffa85-901c-4df6-bc0f-faa0f2b6d7ba",
   "metadata": {},
   "source": [
    "**NOTA**: Aquí podemos observar que se ha reducido considerablemente la pérdida"
   ]
  },
  {
   "cell_type": "markdown",
   "id": "b7449525-4d14-4f70-a4f1-95054ef94684",
   "metadata": {},
   "source": [
    "## Probamos al modelo una vez más, esta vez mejorado con el nuevo entrenamiento"
   ]
  },
  {
   "cell_type": "code",
   "execution_count": 14,
   "id": "3bd82f14-4b15-4d41-a5c4-cf75c3aa3943",
   "metadata": {},
   "outputs": [
    {
     "name": "stdout",
     "output_type": "stream",
     "text": [
      "Precisión del modelo:  50.000000%\n"
     ]
    }
   ],
   "source": [
    "model.eval() #Cambiamos a modo evaluación, no a entrenamiento\n",
    "\n",
    "correct = 0\n",
    "total = 0\n",
    "\n",
    "with torch.no_grad(): #No son necesarios los gradientes, vamos a testear\n",
    "    #Misma secuencia que en fitting, por lotes:\n",
    "    for inputs, labels in test_loader:\n",
    "        outputs = model(inputs)\n",
    "        predicted = (outputs >= 0.5).float() #Aplicamos un umbral de 0.5\n",
    "        labels = labels.view(-1, 1)# Mismo fix que antes\n",
    "        correct += (predicted == labels).sum().item()\n",
    "        total += labels.size(0)\n",
    "\n",
    "accuracy = correct / total #Precisión basado en la regla de laplace\n",
    "\n",
    "print(f\"Precisión del modelo: {accuracy * 100 : 2f}%\")"
   ]
  },
  {
   "cell_type": "markdown",
   "id": "aca027e7-74de-4dae-a8c6-3674078d4209",
   "metadata": {},
   "source": [
    "## Conclusión\n",
    "\n",
    "Los modelos de aprendizaje automático (Machine Learning) con datasets precarios o disminuidos suelen tender a equivocarse, pues no tienen mucha información a su alcance para lograr efectuar un buen rendimiento. \n",
    "\n",
    "No obstante, también hemos analizado el cómo influye que tanto entrenamiento tenga encima dicho modelo para poder ser cada vez mejor y poder aprender y auto ajustar esos errores con una cierta sutileza.\n",
    "\n",
    "Este proyecto tuvo el objetivo de acercarnos a un primer contacto más serio con IA, aprendiendo:\n",
    "\n",
    "- Cómo crear una arquitectura desde 0\n",
    "- Cómo dividir un dataset en partes (Train, Test)\n",
    "- Cómo pasar los datos del Training Set vía lotes para optimizar memoria\n",
    "- Cómo realizar un entrenamiento y test adecuados y analizar su comportamiento\n",
    "\n",
    "Que este sea el inicio para poder crear mejores modelos y poder llegar a complejidades mucho mas grandes.\n"
   ]
  }
 ],
 "metadata": {
  "kernelspec": {
   "display_name": "Python 3 (ipykernel)",
   "language": "python",
   "name": "python3"
  },
  "language_info": {
   "codemirror_mode": {
    "name": "ipython",
    "version": 3
   },
   "file_extension": ".py",
   "mimetype": "text/x-python",
   "name": "python",
   "nbconvert_exporter": "python",
   "pygments_lexer": "ipython3",
   "version": "3.12.3"
  }
 },
 "nbformat": 4,
 "nbformat_minor": 5
}
